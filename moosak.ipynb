{
 "cells": [
  {
   "cell_type": "code",
   "execution_count": 3,
   "metadata": {},
   "outputs": [],
   "source": [
    "def scale(name = \"Major\", prog = [0,2,4,5,7,9,11]):\n",
    "    ret = ''\n",
    "    for x in range(12):\n",
    "        names, reps, acc =[('A','A'), ('Bb','A#'), ('B','Cb'), ('C','B#'), ('Db','C#'), ('D','D'),\n",
    "            ('Eb','D#'), ('E','Fb'), ('F','E#'), ('Gb','F#'), ('G','G'), ('Ab','G#')], set(), 6\n",
    "        for m in range(2**7):\n",
    "            s = ' '.join([names[[(i+x)%12 for i in prog][i]][(m&2**i)>>i] for i in range(7)])\n",
    "            if not (False in [note in s for note in ['A','B','C','D','E','F','G']]):\n",
    "                acc = min(acc, s.count('b') + s.count('#'))\n",
    "                reps.add(s)\n",
    "        for r in filter(lambda s: s.count('b') + s.count('#') == acc, reps):\n",
    "            ret += \"{} {} \\t{} flats {} sharps\\t{}\\n\".format(r[:r.find(' ')], name, r.count('b'), r.count('#'), r)\n",
    "    return ret.strip()\n",
    "\n",
    "def majors():\n",
    "    return scale()\n",
    "\n",
    "def minors(): \n",
    "    return scale(name=\"Minor\", prog=[0,2,3,5,7,8,10])"
   ]
  },
  {
   "cell_type": "code",
   "execution_count": 4,
   "metadata": {},
   "outputs": [
    {
     "name": "stdout",
     "output_type": "stream",
     "text": [
      "A Major \t0 flats 3 sharps\tA B C# D E F# G#\n",
      "Bb Major \t2 flats 0 sharps\tBb C D Eb F G A\n",
      "B Major \t0 flats 5 sharps\tB C# D# E F# G# A#\n",
      "C Major \t0 flats 0 sharps\tC D E F G A B\n",
      "Db Major \t5 flats 0 sharps\tDb Eb F Gb Ab Bb C\n",
      "D Major \t0 flats 2 sharps\tD E F# G A B C#\n",
      "Eb Major \t3 flats 0 sharps\tEb F G Ab Bb C D\n",
      "E Major \t0 flats 4 sharps\tE F# G# A B C# D#\n",
      "F Major \t1 flats 0 sharps\tF G A Bb C D E\n",
      "F# Major \t0 flats 6 sharps\tF# G# A# B C# D# E#\n",
      "Gb Major \t6 flats 0 sharps\tGb Ab Bb Cb Db Eb F\n",
      "G Major \t0 flats 1 sharps\tG A B C D E F#\n",
      "Ab Major \t4 flats 0 sharps\tAb Bb C Db Eb F G\n"
     ]
    }
   ],
   "source": [
    "print(majors())"
   ]
  },
  {
   "cell_type": "code",
   "execution_count": 5,
   "metadata": {},
   "outputs": [
    {
     "name": "stdout",
     "output_type": "stream",
     "text": [
      "A Minor \t0 flats 0 sharps\tA B C D E F G\n",
      "Bb Minor \t5 flats 0 sharps\tBb C Db Eb F Gb Ab\n",
      "B Minor \t0 flats 2 sharps\tB C# D E F# G A\n",
      "C Minor \t3 flats 0 sharps\tC D Eb F G Ab Bb\n",
      "C# Minor \t0 flats 4 sharps\tC# D# E F# G# A B\n",
      "D Minor \t1 flats 0 sharps\tD E F G A Bb C\n",
      "D# Minor \t0 flats 6 sharps\tD# E# F# G# A# B C#\n",
      "Eb Minor \t6 flats 0 sharps\tEb F Gb Ab Bb Cb Db\n",
      "E Minor \t0 flats 1 sharps\tE F# G A B C D\n",
      "F Minor \t4 flats 0 sharps\tF G Ab Bb C Db Eb\n",
      "F# Minor \t0 flats 3 sharps\tF# G# A B C# D E\n",
      "G Minor \t2 flats 0 sharps\tG A Bb C D Eb F\n",
      "G# Minor \t0 flats 5 sharps\tG# A# B C# D# E F#\n"
     ]
    }
   ],
   "source": [
    "print(minors())"
   ]
  },
  {
   "cell_type": "code",
   "execution_count": 4,
   "metadata": {},
   "outputs": [
    {
     "name": "stdout",
     "output_type": "stream",
     "text": [
      "\n",
      "C Major  (Am)\t0 flats \tC   D   E   F   G   | A   B   C   | D   E   F   G   A\n",
      "F Major  (Dm)\t1 flats \tF   G   A   Bb  C   | D   E   F   | G   A   Bb  C   D\n",
      "Bb Major (Gm)\t2 flats \tBb  C   D   Eb  F   | G   A   Bb  | C   D   Eb  F   G\n",
      "Eb Major (Cm)\t3 flats \tEb  F   G   Ab  Bb  | C   D   Eb  | F   G   Ab  Bb  C\n",
      "Ab Major (Fm)\t4 flats \tAb  Bb  C   Db  Eb  | F   G   Ab  | Bb  C   Db  Eb  F\n",
      "Db Major (Bbm)\t5 flats \tDb  Eb  F   Gb  Ab  | Bb  C   Db  | Eb  F   Gb  Ab  Bb\n",
      "Gb Major (Ebm)\t6 flats \tGb  Ab  Bb  Cb  Db  | Eb  F   Gb  | Ab  Bb  Cb  Db  Eb\n",
      "\n",
      "F# Major (D#m)\t6 sharp \tF#  G#  A#  B   C#  | D#  E#  F#  | G#  A#  B   C#  D#\n",
      "B Major  (G#m)\t5 sharp \tB   C#  D#  E   F#  | G#  A#  B   | C#  D#  E   F#  G#\n",
      "E Major  (C#m)\t4 sharp \tE   F#  G#  A   B   | C#  D#  E   | F#  G#  A   B   C#\n",
      "A Major  (F#m)\t3 sharp \tA   B   C#  D   E   | F#  G#  A   | B   C#  D   E   F#\n",
      "D Major  (Bm)\t2 sharp \tD   E   F#  G   A   | B   C#  D   | E   F#  G   A   B\n",
      "G Major  (Em)\t1 sharp \tG   A   B   C   D   | E   F#  G   | A   B   C   D   E\n",
      "C Major  (Am)\t0 flats \tC   D   E   F   G   | A   B   C   | D   E   F   G   A\n",
      "\n"
     ]
    }
   ],
   "source": [
    "co5 = '''\n",
    "C Major  (Am)\t0 flats \tC   D   E   F   G   | A   B   C   | D   E   F   G   A\n",
    "F Major  (Dm)\t1 flats \tF   G   A   Bb  C   | D   E   F   | G   A   Bb  C   D\n",
    "Bb Major (Gm)\t2 flats \tBb  C   D   Eb  F   | G   A   Bb  | C   D   Eb  F   G\n",
    "Eb Major (Cm)\t3 flats \tEb  F   G   Ab  Bb  | C   D   Eb  | F   G   Ab  Bb  C\n",
    "Ab Major (Fm)\t4 flats \tAb  Bb  C   Db  Eb  | F   G   Ab  | Bb  C   Db  Eb  F\n",
    "Db Major (Bbm)\t5 flats \tDb  Eb  F   Gb  Ab  | Bb  C   Db  | Eb  F   Gb  Ab  Bb\n",
    "Gb Major (Ebm)\t6 flats \tGb  Ab  Bb  Cb  Db  | Eb  F   Gb  | Ab  Bb  Cb  Db  Eb\n",
    "\n",
    "F# Major (D#m)\t6 sharp \tF#  G#  A#  B   C#  | D#  E#  F#  | G#  A#  B   C#  D#\n",
    "B Major  (G#m)\t5 sharp \tB   C#  D#  E   F#  | G#  A#  B   | C#  D#  E   F#  G#\n",
    "E Major  (C#m)\t4 sharp \tE   F#  G#  A   B   | C#  D#  E   | F#  G#  A   B   C#\n",
    "A Major  (F#m)\t3 sharp \tA   B   C#  D   E   | F#  G#  A   | B   C#  D   E   F#\n",
    "D Major  (Bm)\t2 sharp \tD   E   F#  G   A   | B   C#  D   | E   F#  G   A   B\n",
    "G Major  (Em)\t1 sharp \tG   A   B   C   D   | E   F#  G   | A   B   C   D   E\n",
    "C Major  (Am)\t0 flats \tC   D   E   F   G   | A   B   C   | D   E   F   G   A\n",
    "'''\n",
    "print(co5)"
   ]
  },
  {
   "cell_type": "code",
   "execution_count": null,
   "metadata": {},
   "outputs": [],
   "source": []
  }
 ],
 "metadata": {
  "kernelspec": {
   "display_name": "Python 3",
   "language": "python",
   "name": "python3"
  },
  "language_info": {
   "codemirror_mode": {
    "name": "ipython",
    "version": 3
   },
   "file_extension": ".py",
   "mimetype": "text/x-python",
   "name": "python",
   "nbconvert_exporter": "python",
   "pygments_lexer": "ipython3",
   "version": "3.8.3"
  }
 },
 "nbformat": 4,
 "nbformat_minor": 4
}
