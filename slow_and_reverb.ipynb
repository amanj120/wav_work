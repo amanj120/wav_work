{
 "cells": [
  {
   "cell_type": "code",
   "execution_count": 3,
   "metadata": {},
   "outputs": [],
   "source": [
    "import matplotlib.pyplot as plt\n",
    "import numpy as np\n",
    "import time\n",
    "from scipy.fft import rfft, irfft, fft, ifft\n",
    "import math\n",
    "from scipy.stats import norm as normal_dist\n",
    "import wave\n",
    "\n",
    "plt.rcParams['figure.figsize'] = [30, 10]"
   ]
  },
  {
   "cell_type": "code",
   "execution_count": 159,
   "metadata": {},
   "outputs": [],
   "source": [
    "temp = wave.open(\"wavs/cyanide.wav\")\n",
    "n = np.frombuffer(temp.readframes(temp.getnframes()), dtype=np.int16)"
   ]
  },
  {
   "cell_type": "code",
   "execution_count": 169,
   "metadata": {},
   "outputs": [],
   "source": [
    "x = 44100 #delay\n",
    "f = 1.167 #factor \n",
    "n2 = (np.concatenate([n[:x] * f, n[x:] + n[:-x]*(f-1)])/f).astype(np.int16)"
   ]
  },
  {
   "cell_type": "code",
   "execution_count": 170,
   "metadata": {},
   "outputs": [],
   "source": [
    "sv = wave.open(\"wavs/cyanide_slow.wav\", mode=\"wb\")\n",
    "sv.setparams(temp.getparams())\n",
    "sv.setframerate(44100/(2**(1/6)))\n",
    "sv.writeframes(n2.tobytes())\n",
    "sv.close()"
   ]
  }
 ],
 "metadata": {
  "kernelspec": {
   "display_name": "Python 3",
   "language": "python",
   "name": "python3"
  },
  "language_info": {
   "codemirror_mode": {
    "name": "ipython",
    "version": 3
   },
   "file_extension": ".py",
   "mimetype": "text/x-python",
   "name": "python",
   "nbconvert_exporter": "python",
   "pygments_lexer": "ipython3",
   "version": "3.8.3"
  }
 },
 "nbformat": 4,
 "nbformat_minor": 4
}
