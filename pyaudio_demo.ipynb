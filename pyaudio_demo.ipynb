{
 "cells": [
  {
   "cell_type": "code",
   "execution_count": 1,
   "metadata": {},
   "outputs": [],
   "source": [
    "import pyaudio\n",
    "import wave\n",
    "import matplotlib.pyplot as plt\n",
    "import numpy as np\n",
    "\n",
    "#man pacat for unix interface\n",
    "#libpulse : ldconfig -p | grep pulse\n",
    "\n",
    "from scipy.fft import rfft, irfft\n",
    "import math\n",
    "from scipy.stats import norm as normal_dist"
   ]
  },
  {
   "cell_type": "code",
   "execution_count": 2,
   "metadata": {},
   "outputs": [],
   "source": [
    "CHUNK = 4096\n",
    "FORMAT = pyaudio.paInt16\n",
    "CHANNELS = 1\n",
    "RATE = 44100\n",
    "RECORD_SECONDS = 15\n",
    "WAVE_OUTPUT_FILENAME = \"output.wav\""
   ]
  },
  {
   "cell_type": "code",
   "execution_count": null,
   "metadata": {},
   "outputs": [],
   "source": []
  },
  {
   "cell_type": "code",
   "execution_count": 3,
   "metadata": {},
   "outputs": [],
   "source": [
    "def harmonic_similarity_matrix(window, rate, sigma = 1/36, num_harmonics = 1):\n",
    "    len_fft = window//2 + 1\n",
    "    notes = [27.5 * 2**(i/12) for i in range(120)]\n",
    "    \n",
    "    mat = np.zeros((len_fft, len(notes)))\n",
    "    # each value in mat is the probability that a fft frequency belongs to a note or it's harmonic series\n",
    "    temp = np.zeros((len_fft, len(notes)))\n",
    "    \n",
    "#     log_freq = (math.log(55,2) + np.arange(0,8,(1/12)))\n",
    "#     log_fft = np.log2(np)\n",
    "    \n",
    "    for h in range(1,1 + num_harmonics):\n",
    "        for i in range(1, len_fft):\n",
    "#             print(i, end=\"\\r\")\n",
    "            fft_n = i * (rate/window)\n",
    "            for j in range(len(notes)):\n",
    "                note = notes[j]\n",
    "                factor = h\n",
    "                freq = factor * note\n",
    "                v = abs(math.log(freq,2) - math.log(fft_n,2))\n",
    "                temp[i][j] = (v/sigma)\n",
    "        mat += 2 * (1- normal_dist().cdf(temp))\n",
    "    mat[0][:] = 0.0\n",
    "#     for i in range(len_fft):\n",
    "#         s = sum(abs(mat[i])) \n",
    "#         if s > 0.0:\n",
    "#             mat[i] /= s\n",
    "            \n",
    "    return mat\n",
    "                # "
   ]
  },
  {
   "cell_type": "code",
   "execution_count": 4,
   "metadata": {},
   "outputs": [],
   "source": [
    "dt = np.dtype(np.int16)\n",
    "dt = dt.newbyteorder('<')\n",
    "\n",
    "hmat = harmonic_similarity_matrix(CHUNK, RATE)\n",
    "\n",
    "# samples = np.empty((0), dtype=dt)\n",
    "# samples\n",
    "# fft_s = np.zeros((CHUNK//2, CHUNK//2))\n",
    "# fft_c = np.zeros((CHUNK//2, CHUNK//2))\n",
    "# FxH = FHx\n",
    "\n",
    "# 2048 vector -> 120 vector (multiply by 2048x120)\n",
    "\n",
    "names = [\"A BbB C DbD EbE F GbG Ab\"[(i%12)*2:(i%12)*2+2].strip() + str(i//12) for i in range(120)]"
   ]
  },
  {
   "cell_type": "code",
   "execution_count": null,
   "metadata": {},
   "outputs": [],
   "source": [
    "fig, ax = plt.subplots(figsize=(10,450))\n",
    "im = ax.imshow(hmat)"
   ]
  },
  {
   "cell_type": "code",
   "execution_count": null,
   "metadata": {},
   "outputs": [],
   "source": [
    "p = pyaudio.PyAudio()\n",
    "\n",
    "\n",
    "# input(\"Press any key to start recording\")\n",
    "\n",
    "print(\"* recording\")\n",
    "\n",
    "frames = []\n",
    "\n",
    "maxes = []\n",
    "\n",
    "stream = p.open(format=FORMAT, channels=CHANNELS, rate=RATE, input=True, frames_per_buffer=CHUNK)\n",
    "\n",
    "last = \"\"\n",
    "\n",
    "for i in range(0, int(RATE / CHUNK * RECORD_SECONDS)):\n",
    "    data = stream.read(CHUNK)\n",
    "    frames.append(data)\n",
    "    sample = np.frombuffer(data, dtype=dt)\n",
    "    l = np.matmul( np.abs(rfft(sample)) , hmat )\n",
    "    maxes.append(l)\n",
    "    note = names[np.argmax(l)]\n",
    "    if note != last:\n",
    "        print(note)\n",
    "        last = note\n",
    "    \n",
    "\n",
    "print(\"* done recording\")\n",
    "\n",
    "stream.stop_stream()\n",
    "stream.close()\n",
    "p.terminate()"
   ]
  },
  {
   "cell_type": "code",
   "execution_count": 5,
   "metadata": {},
   "outputs": [
    {
     "ename": "NameError",
     "evalue": "name 'p' is not defined",
     "output_type": "error",
     "traceback": [
      "\u001b[0;31m---------------------------------------------------------------------------\u001b[0m",
      "\u001b[0;31mNameError\u001b[0m                                 Traceback (most recent call last)",
      "\u001b[0;32m<ipython-input-5-b2d87a2f6b61>\u001b[0m in \u001b[0;36m<module>\u001b[0;34m\u001b[0m\n\u001b[1;32m      1\u001b[0m \u001b[0mwf\u001b[0m \u001b[0;34m=\u001b[0m \u001b[0mwave\u001b[0m\u001b[0;34m.\u001b[0m\u001b[0mopen\u001b[0m\u001b[0;34m(\u001b[0m\u001b[0mWAVE_OUTPUT_FILENAME\u001b[0m\u001b[0;34m,\u001b[0m \u001b[0;34m'wb'\u001b[0m\u001b[0;34m)\u001b[0m\u001b[0;34m\u001b[0m\u001b[0;34m\u001b[0m\u001b[0m\n\u001b[1;32m      2\u001b[0m \u001b[0mwf\u001b[0m\u001b[0;34m.\u001b[0m\u001b[0msetnchannels\u001b[0m\u001b[0;34m(\u001b[0m\u001b[0mCHANNELS\u001b[0m\u001b[0;34m)\u001b[0m\u001b[0;34m\u001b[0m\u001b[0;34m\u001b[0m\u001b[0m\n\u001b[0;32m----> 3\u001b[0;31m \u001b[0mwf\u001b[0m\u001b[0;34m.\u001b[0m\u001b[0msetsampwidth\u001b[0m\u001b[0;34m(\u001b[0m\u001b[0mp\u001b[0m\u001b[0;34m.\u001b[0m\u001b[0mget_sample_size\u001b[0m\u001b[0;34m(\u001b[0m\u001b[0mFORMAT\u001b[0m\u001b[0;34m)\u001b[0m\u001b[0;34m)\u001b[0m\u001b[0;34m\u001b[0m\u001b[0;34m\u001b[0m\u001b[0m\n\u001b[0m\u001b[1;32m      4\u001b[0m \u001b[0mwf\u001b[0m\u001b[0;34m.\u001b[0m\u001b[0msetframerate\u001b[0m\u001b[0;34m(\u001b[0m\u001b[0mRATE\u001b[0m\u001b[0;34m)\u001b[0m\u001b[0;34m\u001b[0m\u001b[0;34m\u001b[0m\u001b[0m\n\u001b[1;32m      5\u001b[0m \u001b[0mwf\u001b[0m\u001b[0;34m.\u001b[0m\u001b[0mwriteframes\u001b[0m\u001b[0;34m(\u001b[0m\u001b[0;34mb''\u001b[0m\u001b[0;34m.\u001b[0m\u001b[0mjoin\u001b[0m\u001b[0;34m(\u001b[0m\u001b[0mframes\u001b[0m\u001b[0;34m)\u001b[0m\u001b[0;34m)\u001b[0m\u001b[0;34m\u001b[0m\u001b[0;34m\u001b[0m\u001b[0m\n",
      "\u001b[0;31mNameError\u001b[0m: name 'p' is not defined"
     ]
    }
   ],
   "source": [
    "wf = wave.open(WAVE_OUTPUT_FILENAME, 'wb')\n",
    "wf.setnchannels(CHANNELS)\n",
    "wf.setsampwidth(p.get_sample_size(FORMAT))\n",
    "wf.setframerate(RATE)\n",
    "wf.writeframes(b''.join(frames))\n",
    "wf.close()"
   ]
  },
  {
   "cell_type": "code",
   "execution_count": null,
   "metadata": {},
   "outputs": [],
   "source": [
    "idx = 0\n",
    "for f in frames:\n",
    "    plt.figure(figsize=(30,10))\n",
    "    \n",
    "    raw = np.frombuffer(f, dtype=dt)\n",
    "    \n",
    "#     avg = (0.25*raw[0::4] + 0.25*raw[1::4] + 0.25*raw[2::4] + 0.25*raw[3::4])\n",
    "#     plt.plot(avg)\n",
    "    print(idx)\n",
    "    plt.plot(raw)\n",
    "    plt.show()\n",
    "    idx += 1"
   ]
  },
  {
   "cell_type": "code",
   "execution_count": null,
   "metadata": {},
   "outputs": [],
   "source": [
    "idx = 0\n",
    "for m in maxes:\n",
    "    print(idx, np.argmax(m))\n",
    "    plt.plot(m)\n",
    "    plt.show()\n",
    "    idx += 1"
   ]
  },
  {
   "cell_type": "code",
   "execution_count": null,
   "metadata": {},
   "outputs": [],
   "source": []
  }
 ],
 "metadata": {
  "kernelspec": {
   "display_name": "Python 3",
   "language": "python",
   "name": "python3"
  },
  "language_info": {
   "codemirror_mode": {
    "name": "ipython",
    "version": 3
   },
   "file_extension": ".py",
   "mimetype": "text/x-python",
   "name": "python",
   "nbconvert_exporter": "python",
   "pygments_lexer": "ipython3",
   "version": "3.8.3"
  }
 },
 "nbformat": 4,
 "nbformat_minor": 4
}
