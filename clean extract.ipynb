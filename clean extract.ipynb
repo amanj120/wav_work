{
 "cells": [
  {
   "cell_type": "code",
   "execution_count": null,
   "metadata": {},
   "outputs": [],
   "source": [
    "import matplotlib.pyplot as plt\n",
    "import numpy as np\n",
    "from scipy.fft import rfft, irfft\n",
    "import math\n",
    "from scipy.stats import norm as normal_dist\n",
    "\n",
    "# NOTES=[((' ABb B CDb DEb E FGb GAb'[2*i%24:2*i%24+2]+str(i//12)).strip(),27.5*2**(i/12)) for i in range(120)]\n",
    "\n",
    "import time"
   ]
  },
  {
   "cell_type": "code",
   "execution_count": null,
   "metadata": {},
   "outputs": [],
   "source": [
    "def parse_wav(b):\n",
    "    assert b[0:4] == b'RIFF', \"Chunk ID did not match 'RIFF'\"\n",
    "    chunk_size = int.from_bytes(b[4:8], byteorder=\"little\")\n",
    "    assert b[8:12] == b'WAVE', \"Format did not match 'WAVE'\"\n",
    "    assert b[12:16] == b'fmt ', \"Format subchunk ID did not match 'fmt '\"\n",
    "    chunk1_size = int.from_bytes(b[16:20], byteorder=\"little\")\n",
    "    audio_format = int.from_bytes(b[20:22], byteorder=\"little\")\n",
    "    assert audio_format == 1, \"Audio Format is not PCM (i.e. data is compressed)\"\n",
    "    channels = int.from_bytes(b[22:24], byteorder=\"little\")\n",
    "    sample_rate = int.from_bytes(b[24:28], byteorder=\"little\")\n",
    "    byte_rate = int.from_bytes(b[28:32], byteorder=\"little\")\n",
    "    block_align = int.from_bytes(b[32:34], byteorder=\"little\")\n",
    "    bits_per_sample = int.from_bytes(b[34:36], \"little\")\n",
    "    assert (bits_per_sample % 8) == 0 , \"bits per sample is not a multiple of 8\"\n",
    "    assert (sample_rate * (bits_per_sample/8) * channels == byte_rate), \"byte_rate != bytes_per_sample * sample_rate * num_channels\"\n",
    "    # from 36 onwards, we might have additional metadata\n",
    "    data_idx = 36\n",
    "    while True:\n",
    "        temp_chunk_id = b[data_idx: data_idx + 4]\n",
    "        temp_chunk_size = int.from_bytes(b[data_idx + 4: data_idx + 8], byteorder=\"little\")\n",
    "        if temp_chunk_id != b'data':\n",
    "            data_idx += temp_chunk_size + 8 # add 8 to include the chunk_id and chunk_size fields\n",
    "        else:\n",
    "            break\n",
    "            \n",
    "    assert b[data_idx: data_idx + 4] == b'data', \"Format subchunk ID did not match 'data'\"\n",
    "    sample_size = int.from_bytes(b[data_idx + 4: data_idx + 8], byteorder=\"little\")\n",
    "    sample_begin = data_idx + 8\n",
    "    assert sample_size % block_align == 0, \"size of sample in bytes is not divisible by number of bytes per sample\"\n",
    "    \n",
    "    return {\n",
    "        \"File Size\": chunk_size + 8,\n",
    "        \"Audio Format\": \"PCM\",\n",
    "        \"Channels\": channels,\n",
    "        \"Sample Rate\": sample_rate,\n",
    "        \"Byte Rate\": byte_rate,\n",
    "        \"Block Align (bytes per sample)\": block_align,\n",
    "        \"Bits Per Sample Per Channel\": bits_per_sample,\n",
    "        \"Samples Size\": sample_size,\n",
    "        \"Num Samples\": int(sample_size/block_align),\n",
    "        \"File Length (seconds)\": round(sample_size/(byte_rate), 3),\n",
    "        \"Sample Begin\": sample_begin,\n",
    "    }"
   ]
  },
  {
   "cell_type": "code",
   "execution_count": null,
   "metadata": {},
   "outputs": [],
   "source": [
    "def note_similarity_matrix(window, rate):\n",
    "    #TODO: make this cleaner\n",
    "    len_fft = window//2 + 1\n",
    "    logs = (math.log(27.5,2) + np.arange(0,10,(1/12)))\n",
    "    freqs = np.log2(np.arange(1, len_fft) * (rate/window))\n",
    "    mat = np.zeros((len_fft, len(logs)))\n",
    "    sigma = 1/24\n",
    "    \n",
    "    for i in range(1, len_fft): #do not count frequency 0\n",
    "        for j in range(len(logs)):\n",
    "            mat[i][j] = freqs[i-1] - logs[j]\n",
    "            \n",
    "    mat = 2 * (1 - normal_dist().cdf(np.abs(mat/sigma)))\n",
    "\n",
    "    for i in range(1, len_fft):\n",
    "        s = sum(mat[i]) \n",
    "        if s > 0.0:\n",
    "            mat[i] /= s\n",
    "    mat[0][:] = 0 #clear frequency 0\n",
    "    \n",
    "    return mat"
   ]
  },
  {
   "cell_type": "code",
   "execution_count": null,
   "metadata": {},
   "outputs": [],
   "source": [
    "start = time.time()\n",
    "\n",
    "f = open(\"whistle.wav\", \"rb\")\n",
    "bb = f.read()\n",
    "f.close()\n",
    "\n",
    "file_info = parse_wav(bb)\n",
    "\n",
    "num_samples = file_info['Num Samples']\n",
    "rate = file_info['Sample Rate']\n",
    "#TODO: determine window size as a function of sample rate\n",
    "window = 2048 + 1024 \n",
    "\n",
    "# TODO: deal with multiple channels, different bits per sample, \n",
    "samples = np.zeros(num_samples + (window - (num_samples%window)), dtype=np.int16)\n",
    "samples[:num_samples] = np.frombuffer(bb[file_info['Sample Begin']:], dtype=np.int16)\n",
    "\n",
    "num_windows = len(samples)//window\n",
    "num_fft_coefs = window//2 + 1\n",
    "\n",
    "ffts = np.zeros((num_windows, num_fft_coefs)) \n",
    "    \n",
    "for winnum in range(num_windows):\n",
    "    np.copyto(ffts[winnum], np.abs(rfft(samples[window*winnum:window*(winnum + 1)])))\n",
    "\n",
    "song = np.matmul(ffts, note_similarity_matrix(window, rate))\n",
    "\n",
    "end = time.time()\n",
    "\n",
    "print(\"time:\", end-start)"
   ]
  },
  {
   "cell_type": "code",
   "execution_count": null,
   "metadata": {},
   "outputs": [],
   "source": [
    "fig, ax = plt.subplots(figsize=(10,100))\n",
    "im = ax.imshow(song, cmap='BuPu')"
   ]
  },
  {
   "cell_type": "code",
   "execution_count": null,
   "metadata": {},
   "outputs": [],
   "source": []
  }
 ],
 "metadata": {
  "kernelspec": {
   "display_name": "Python 3",
   "language": "python",
   "name": "python3"
  },
  "language_info": {
   "codemirror_mode": {
    "name": "ipython",
    "version": 3
   },
   "file_extension": ".py",
   "mimetype": "text/x-python",
   "name": "python",
   "nbconvert_exporter": "python",
   "pygments_lexer": "ipython3",
   "version": "3.8.3"
  }
 },
 "nbformat": 4,
 "nbformat_minor": 4
}
