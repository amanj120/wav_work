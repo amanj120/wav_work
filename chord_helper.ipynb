{
 "cells": [
  {
   "cell_type": "code",
   "execution_count": 1,
   "metadata": {},
   "outputs": [],
   "source": [
    "notes = ['A', 'Bb', 'B', 'C', 'Db', 'D', 'Eb', 'E', 'F', 'Gb', 'G', 'Ab']\n",
    "tuning = ['E', 'A', 'D', 'G'] # subject to change\n",
    "num_frets = 12 # also subject to change"
   ]
  },
  {
   "cell_type": "code",
   "execution_count": 2,
   "metadata": {},
   "outputs": [],
   "source": [
    "def fretboard(tuning, num_frets):\n",
    "    fretboard = []\n",
    "    for note in tuning[::-1]:\n",
    "        string = []\n",
    "        idx = notes.index(note)\n",
    "        for i in range(num_frets + 1):\n",
    "            string.append(notes[(idx + i) % 12])\n",
    "        fretboard.append(string)\n",
    "    return fretboard"
   ]
  },
  {
   "cell_type": "code",
   "execution_count": 3,
   "metadata": {},
   "outputs": [],
   "source": [
    "def get_chord(prog, note, fretboard):\n",
    "    c_n = [notes[(notes.index(note) + p)%12] for p in prog]\n",
    "    print(c_n)\n",
    "    frets = []\n",
    "    for string in fretboard:\n",
    "        l = []\n",
    "        for c in c_n:\n",
    "            l.append(string.index(c))\n",
    "        frets.append(set(sorted(l)))\n",
    "    return frets"
   ]
  },
  {
   "cell_type": "code",
   "execution_count": 4,
   "metadata": {},
   "outputs": [
    {
     "data": {
      "text/plain": [
       "[['G', 'Ab', 'A', 'Bb', 'B', 'C', 'Db', 'D', 'Eb', 'E', 'F', 'Gb', 'G'],\n",
       " ['D', 'Eb', 'E', 'F', 'Gb', 'G', 'Ab', 'A', 'Bb', 'B', 'C', 'Db', 'D'],\n",
       " ['A', 'Bb', 'B', 'C', 'Db', 'D', 'Eb', 'E', 'F', 'Gb', 'G', 'Ab', 'A'],\n",
       " ['E', 'F', 'Gb', 'G', 'Ab', 'A', 'Bb', 'B', 'C', 'Db', 'D', 'Eb', 'E']]"
      ]
     },
     "execution_count": 4,
     "metadata": {},
     "output_type": "execute_result"
    }
   ],
   "source": [
    "f = fretboard(tuning, num_frets)\n",
    "f"
   ]
  },
  {
   "cell_type": "code",
   "execution_count": 5,
   "metadata": {},
   "outputs": [],
   "source": [
    "major = [0, 4, 7]\n",
    "minor = [0, 3, 7]\n",
    "maj7 = [0, 4, 7, 11]\n",
    "min7 = [0, 3, 7, 10]\n",
    "sus4 = [0,5,7]\n",
    "sus2 = [0,2,7]"
   ]
  },
  {
   "cell_type": "code",
   "execution_count": 10,
   "metadata": {},
   "outputs": [
    {
     "name": "stdout",
     "output_type": "stream",
     "text": [
      "['D', 'Gb', 'A', 'Db']\n"
     ]
    },
    {
     "data": {
      "text/plain": [
       "[{2, 6, 7, 11}, {0, 4, 7, 11}, {0, 4, 5, 9}, {2, 5, 9, 10}]"
      ]
     },
     "execution_count": 10,
     "metadata": {},
     "output_type": "execute_result"
    }
   ],
   "source": [
    "get_chord(maj7, 'D', f)"
   ]
  },
  {
   "cell_type": "code",
   "execution_count": null,
   "metadata": {},
   "outputs": [],
   "source": []
  }
 ],
 "metadata": {
  "kernelspec": {
   "display_name": "Python 3",
   "language": "python",
   "name": "python3"
  },
  "language_info": {
   "codemirror_mode": {
    "name": "ipython",
    "version": 3
   },
   "file_extension": ".py",
   "mimetype": "text/x-python",
   "name": "python",
   "nbconvert_exporter": "python",
   "pygments_lexer": "ipython3",
   "version": "3.8.3"
  }
 },
 "nbformat": 4,
 "nbformat_minor": 4
}
